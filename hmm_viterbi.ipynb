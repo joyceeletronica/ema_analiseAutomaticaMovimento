{
 "cells": [
  {
   "cell_type": "markdown",
   "metadata": {},
   "source": [
    "# Algoritmo de Viterbi\n",
    "\n",
    "Este algoritmo utiliza matriz de emissão, transição e probabilidade inicial. Abaixo é utilizado o algoritmo para implementação de um exemplo de três estados ('snow', 'rain' e 'sunshine') durante 14 dias. As entradas são: a sequência de observação baseado apenas na sensação (cadeia OCULTA de Markov, definidos os estados como 'hot' ou 'cold') chamada de \"obs\", a probabilidade inicial dos três estados não-ocultos (pi), a matriz de transição (a) e a matriz de emissão (b). Com base nessas entradas, a saída é o caminho mais provável. O algoritmo realiza, primeiramente, a multiplicação da probabilidade inicial dos estados não-ocultos pela primeira coluna da matriz de emissão (b). \n",
    "Nos passos seguintes é feito um loop para multiplicar pelas outras colunas da matriz de emissão. Em outras palavras, o algoritmo multiplica todas as matrizes e vetores a fim de obter todas as probabilidades possíveis de todos os estados em todos os dias, e por fim rastreia qual o maior valor provável de cada estado dia após dia e realiza o backtrace para mostrar ao usuário qual o melhor caminho (path) provável durante os 14 dias. O algoritmo descrito pode ser visualizado na figura abaixo e logo em seguida, o exemplo."
   ]
  },
  {
   "cell_type": "markdown",
   "metadata": {},
   "source": [
    "<img src=\"images/viterbialgorithm.png\" align = \"left\">"
   ]
  },
  {
   "cell_type": "code",
   "execution_count": 23,
   "metadata": {},
   "outputs": [],
   "source": [
    "import numpy as np\n",
    "import pandas as pd # data visualization/analysis\n",
    "\n",
    "obs_map = {'Cold':0, 'Hot':1}\n",
    "obs = np.array([1,1,0,1,0,0,1,0,1,1,0,0,0,1]) # observable sequence\n",
    "\n",
    "inv_obs_map = dict((v,k) for k, v in obs_map.items())\n",
    "obs_seq = [inv_obs_map[v] for v in list(obs)]"
   ]
  },
  {
   "cell_type": "code",
   "execution_count": 24,
   "metadata": {},
   "outputs": [
    {
     "name": "stdout",
     "output_type": "stream",
     "text": [
      "Simulated Observations:\n",
      "    Obs_code Obs_seq\n",
      "0         1     Hot\n",
      "1         1     Hot\n",
      "2         0    Cold\n",
      "3         1     Hot\n",
      "4         0    Cold\n",
      "5         0    Cold\n",
      "6         1     Hot\n",
      "7         0    Cold\n",
      "8         1     Hot\n",
      "9         1     Hot\n",
      "10        0    Cold\n",
      "11        0    Cold\n",
      "12        0    Cold\n",
      "13        1     Hot\n"
     ]
    }
   ],
   "source": [
    "print(\"Simulated Observations:\\n\",pd.DataFrame(np.column_stack([obs, obs_seq]),columns=['Obs_code', 'Obs_seq']))"
   ]
  },
  {
   "cell_type": "code",
   "execution_count": 25,
   "metadata": {},
   "outputs": [
    {
     "name": "stdout",
     "output_type": "stream",
     "text": [
      "\n",
      " HMM matrix:\n",
      "          Snow  Rain Sunshine\n",
      "Snow      0.3   0.3      0.4\n",
      "Rain      0.1  0.45     0.45\n",
      "Sunshine  0.2   0.3      0.5\n"
     ]
    }
   ],
   "source": [
    "pi = [0.6, 0.4] # initial probabilities vector\n",
    "states = ['Cold', 'Hot']\n",
    "hidden_states = ['Snow', 'Rain', 'Sunshine']\n",
    "pi = [0, 0.2, 0.8] # initial probabilities vector from hidden_states\n",
    "state_space = pd.Series(pi, index=hidden_states, name='states')\n",
    "a_df = pd.DataFrame(columns=hidden_states, index=hidden_states)\n",
    "a_df.loc[hidden_states[0]] = [0.3, 0.3, 0.4] # df.loc - first row from the vector in position 0\n",
    "a_df.loc[hidden_states[1]] = [0.1, 0.45, 0.45]\n",
    "a_df.loc[hidden_states[2]] = [0.2, 0.3, 0.5] # matrix\n",
    "print(\"\\n HMM matrix:\\n\", a_df)\n",
    "a = a_df.values"
   ]
  },
  {
   "cell_type": "code",
   "execution_count": 26,
   "metadata": {},
   "outputs": [
    {
     "name": "stdout",
     "output_type": "stream",
     "text": [
      "\n",
      " Emission  matrix:\n",
      "          Cold  Hot\n",
      "Snow        1    0\n",
      "Rain      0.8  0.2\n",
      "Sunshine  0.3  0.7\n"
     ]
    }
   ],
   "source": [
    "observable_states = states\n",
    "b_df = pd.DataFrame(columns=observable_states, index=hidden_states)\n",
    "b_df.loc[hidden_states[0]] = [1,0]\n",
    "b_df.loc[hidden_states[1]] = [0.8,0.2]\n",
    "b_df.loc[hidden_states[2]] = [0.3,0.7]\n",
    "print(\"\\n Emission  matrix:\\n\",b_df) # matrix based on markov chain (transition probability matrix)\n",
    "b = b_df.values"
   ]
  },
  {
   "cell_type": "code",
   "execution_count": 27,
   "metadata": {},
   "outputs": [],
   "source": [
    "def viterbi(pi, a, b, obs):\n",
    "    \n",
    "    nStates = np.shape(b)[0] # qtde de estados\n",
    "    T = np.shape(obs)[0] # quantidade de dias observados\n",
    "    \n",
    "    # init blank path\n",
    "    path = np.zeros(T,dtype=int) # retorna array preenchido com zeros e do tamanho capturado de T\n",
    "    # delta --> highest probability of any path that reaches state i\n",
    "    delta = np.zeros((nStates, T)) # retorna array de zeros do tamanho da quantidade de estados X qtde de dias observados\n",
    "    # phi --> argmax by time step for each state\n",
    "    phi = np.zeros((nStates, T)) # qtde de estados X qtde de dias observados\n",
    "    \n",
    "    # init delta and phi \n",
    "    delta[:, 0] = pi * b[:, obs[0]] # multiplica a prob. inicial pelo primeiro valor da matriz b no primeiro dia de observação\n",
    "    phi[:, 0] = 0 \n",
    "\n",
    "    print('\\nStart Walk Forward\\n')    \n",
    "    # the forward algorithm extension\n",
    "    for t in range(1, T): # do primeiro dia ao 14o\n",
    "        for s in range(nStates): # do primeiro estado ao último\n",
    "            delta[s, t] = np.max(delta[:, t-1] * a[:, s]) * b[s, obs[t]] # s = qtde de estados (3) t = qtde de dias (14)\n",
    "            phi[s, t] = np.argmax(delta[:, t-1] * a[:, s])\n",
    "            print('s={s} and t={t}: phi[{s}, {t}] = {phi}'.format(s=s, t=t, phi=phi[s, t])) # visualizar os argumentos p/ estados\n",
    "    \n",
    "    #find optimal path\n",
    "    print('-'*50)\n",
    "    print('Start Backtrace\\n') # procura maior valor para phi nos 14 dias e nos três estados\n",
    "    path[T-1] = np.argmax(delta[:, T-1])\n",
    "    for t in range(T-2, -1, -1): # começa em T-2 (dia 12) para em -1 (dia 0) e passos de 1 em 1 dia\n",
    "        path[t] = phi[path[t+1], [t+1]] \n",
    "        print('path[{}] = {}'.format(t, path[t]))\n",
    "        \n",
    "    return path, delta, phi"
   ]
  },
  {
   "cell_type": "code",
   "execution_count": 28,
   "metadata": {},
   "outputs": [
    {
     "name": "stdout",
     "output_type": "stream",
     "text": [
      "\n",
      "Start Walk Forward\n",
      "\n",
      "s=0 and t=1: phi[0, 1] = 2.0\n",
      "s=1 and t=1: phi[1, 1] = 2.0\n",
      "s=2 and t=1: phi[2, 1] = 2.0\n",
      "s=0 and t=2: phi[0, 2] = 2.0\n",
      "s=1 and t=2: phi[1, 2] = 2.0\n",
      "s=2 and t=2: phi[2, 2] = 2.0\n",
      "s=0 and t=3: phi[0, 3] = 0.0\n",
      "s=1 and t=3: phi[1, 3] = 1.0\n",
      "s=2 and t=3: phi[2, 3] = 1.0\n",
      "s=0 and t=4: phi[0, 4] = 2.0\n",
      "s=1 and t=4: phi[1, 4] = 2.0\n",
      "s=2 and t=4: phi[2, 4] = 2.0\n",
      "s=0 and t=5: phi[0, 5] = 0.0\n",
      "s=1 and t=5: phi[1, 5] = 1.0\n",
      "s=2 and t=5: phi[2, 5] = 1.0\n",
      "s=0 and t=6: phi[0, 6] = 0.0\n",
      "s=1 and t=6: phi[1, 6] = 1.0\n",
      "s=2 and t=6: phi[2, 6] = 1.0\n",
      "s=0 and t=7: phi[0, 7] = 2.0\n",
      "s=1 and t=7: phi[1, 7] = 2.0\n",
      "s=2 and t=7: phi[2, 7] = 2.0\n",
      "s=0 and t=8: phi[0, 8] = 0.0\n",
      "s=1 and t=8: phi[1, 8] = 1.0\n",
      "s=2 and t=8: phi[2, 8] = 1.0\n",
      "s=0 and t=9: phi[0, 9] = 2.0\n",
      "s=1 and t=9: phi[1, 9] = 2.0\n",
      "s=2 and t=9: phi[2, 9] = 2.0\n",
      "s=0 and t=10: phi[0, 10] = 2.0\n",
      "s=1 and t=10: phi[1, 10] = 2.0\n",
      "s=2 and t=10: phi[2, 10] = 2.0\n",
      "s=0 and t=11: phi[0, 11] = 0.0\n",
      "s=1 and t=11: phi[1, 11] = 1.0\n",
      "s=2 and t=11: phi[2, 11] = 1.0\n",
      "s=0 and t=12: phi[0, 12] = 0.0\n",
      "s=1 and t=12: phi[1, 12] = 1.0\n",
      "s=2 and t=12: phi[2, 12] = 1.0\n",
      "s=0 and t=13: phi[0, 13] = 0.0\n",
      "s=1 and t=13: phi[1, 13] = 1.0\n",
      "s=2 and t=13: phi[2, 13] = 1.0\n",
      "--------------------------------------------------\n",
      "Start Backtrace\n",
      "\n",
      "path[12] = 1\n",
      "path[11] = 1\n",
      "path[10] = 1\n",
      "path[9] = 2\n",
      "path[8] = 2\n",
      "path[7] = 1\n",
      "path[6] = 2\n",
      "path[5] = 1\n",
      "path[4] = 1\n",
      "path[3] = 2\n",
      "path[2] = 1\n",
      "path[1] = 2\n",
      "path[0] = 2\n"
     ]
    },
    {
     "data": {
      "text/html": [
       "<div>\n",
       "<style scoped>\n",
       "    .dataframe tbody tr th:only-of-type {\n",
       "        vertical-align: middle;\n",
       "    }\n",
       "\n",
       "    .dataframe tbody tr th {\n",
       "        vertical-align: top;\n",
       "    }\n",
       "\n",
       "    .dataframe thead th {\n",
       "        text-align: right;\n",
       "    }\n",
       "</style>\n",
       "<table border=\"1\" class=\"dataframe\">\n",
       "  <thead>\n",
       "    <tr style=\"text-align: right;\">\n",
       "      <th></th>\n",
       "      <th>Observation</th>\n",
       "      <th>Best_Path</th>\n",
       "    </tr>\n",
       "  </thead>\n",
       "  <tbody>\n",
       "    <tr>\n",
       "      <th>0</th>\n",
       "      <td>Hot</td>\n",
       "      <td>Sunshine</td>\n",
       "    </tr>\n",
       "    <tr>\n",
       "      <th>1</th>\n",
       "      <td>Hot</td>\n",
       "      <td>Sunshine</td>\n",
       "    </tr>\n",
       "    <tr>\n",
       "      <th>2</th>\n",
       "      <td>Cold</td>\n",
       "      <td>Rain</td>\n",
       "    </tr>\n",
       "    <tr>\n",
       "      <th>3</th>\n",
       "      <td>Hot</td>\n",
       "      <td>Sunshine</td>\n",
       "    </tr>\n",
       "    <tr>\n",
       "      <th>4</th>\n",
       "      <td>Cold</td>\n",
       "      <td>Rain</td>\n",
       "    </tr>\n",
       "    <tr>\n",
       "      <th>5</th>\n",
       "      <td>Cold</td>\n",
       "      <td>Rain</td>\n",
       "    </tr>\n",
       "    <tr>\n",
       "      <th>6</th>\n",
       "      <td>Hot</td>\n",
       "      <td>Sunshine</td>\n",
       "    </tr>\n",
       "    <tr>\n",
       "      <th>7</th>\n",
       "      <td>Cold</td>\n",
       "      <td>Rain</td>\n",
       "    </tr>\n",
       "    <tr>\n",
       "      <th>8</th>\n",
       "      <td>Hot</td>\n",
       "      <td>Sunshine</td>\n",
       "    </tr>\n",
       "    <tr>\n",
       "      <th>9</th>\n",
       "      <td>Hot</td>\n",
       "      <td>Sunshine</td>\n",
       "    </tr>\n",
       "    <tr>\n",
       "      <th>10</th>\n",
       "      <td>Cold</td>\n",
       "      <td>Rain</td>\n",
       "    </tr>\n",
       "    <tr>\n",
       "      <th>11</th>\n",
       "      <td>Cold</td>\n",
       "      <td>Rain</td>\n",
       "    </tr>\n",
       "    <tr>\n",
       "      <th>12</th>\n",
       "      <td>Cold</td>\n",
       "      <td>Rain</td>\n",
       "    </tr>\n",
       "    <tr>\n",
       "      <th>13</th>\n",
       "      <td>Hot</td>\n",
       "      <td>Sunshine</td>\n",
       "    </tr>\n",
       "  </tbody>\n",
       "</table>\n",
       "</div>"
      ],
      "text/plain": [
       "   Observation Best_Path\n",
       "0          Hot  Sunshine\n",
       "1          Hot  Sunshine\n",
       "2         Cold      Rain\n",
       "3          Hot  Sunshine\n",
       "4         Cold      Rain\n",
       "5         Cold      Rain\n",
       "6          Hot  Sunshine\n",
       "7         Cold      Rain\n",
       "8          Hot  Sunshine\n",
       "9          Hot  Sunshine\n",
       "10        Cold      Rain\n",
       "11        Cold      Rain\n",
       "12        Cold      Rain\n",
       "13         Hot  Sunshine"
      ]
     },
     "execution_count": 28,
     "metadata": {},
     "output_type": "execute_result"
    }
   ],
   "source": [
    "path, delta, phi = viterbi(pi, a, b, obs)\n",
    "state_map = {0:'Snow', 1:'Rain', 2:'Sunshine'}\n",
    "state_path = [state_map[v] for v in path]\n",
    "pd.DataFrame().assign(Observation=obs_seq).assign(Best_Path=state_path)"
   ]
  },
  {
   "cell_type": "code",
   "execution_count": null,
   "metadata": {},
   "outputs": [],
   "source": []
  }
 ],
 "metadata": {
  "kernelspec": {
   "display_name": "Python 3",
   "language": "python",
   "name": "python3"
  },
  "language_info": {
   "codemirror_mode": {
    "name": "ipython",
    "version": 3
   },
   "file_extension": ".py",
   "mimetype": "text/x-python",
   "name": "python",
   "nbconvert_exporter": "python",
   "pygments_lexer": "ipython3",
   "version": "3.7.3"
  }
 },
 "nbformat": 4,
 "nbformat_minor": 2
}
